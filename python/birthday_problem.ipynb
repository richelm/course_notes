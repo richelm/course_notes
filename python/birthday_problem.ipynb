{
 "cells": [
  {
   "cell_type": "markdown",
   "metadata": {},
   "source": [
    "# Birthday Problem\n",
    "\n",
    "In a group of *n* people, what is the probability that at least two will have the same birthday? Below is a graph showing group sizes up to 90 and the corresponding probability that at least two people in the group will have the same birthday.\n",
    "\n",
    "Let B = the probability that at least two people of the same birthday. Then:\n",
    "\n",
    "$$P(B) = 1 - \\frac{365}{365} * \\frac{364}{365} * \\frac{363}{365} * \\ldots \\frac{365 - (n-1)}{365}$$\n",
    "\n",
    "In the above formula we calculate the probability that no one has the same birthday and subtract this from 1. This approach make the calculation easier. "
   ]
  },
  {
   "cell_type": "code",
   "execution_count": 1,
   "metadata": {
    "collapsed": false
   },
   "outputs": [],
   "source": [
    "import pandas as pd\n",
    "import numpy as np\n",
    "import math"
   ]
  },
  {
   "cell_type": "markdown",
   "metadata": {},
   "source": [
    "The probBirthday function uses the formula above to calculate the probability of at least two people having same birthday from a group of n people."
   ]
  },
  {
   "cell_type": "code",
   "execution_count": 2,
   "metadata": {
    "collapsed": false
   },
   "outputs": [],
   "source": [
    "def probBirthday(n):\n",
    "    p = 1\n",
    "    for x in range(365 - (n-1),366):\n",
    "        p = p * x\n",
    "    return 1 - p / 365**n"
   ]
  },
  {
   "cell_type": "markdown",
   "metadata": {},
   "source": [
    "Build up a data frame of group sizes from 3 to 90 with there corresponding probabilities and plot the data frame. From the graph we see that inorder to have a 50% chance of at least two people having the same birthday, a group size of only 23 is needed."
   ]
  },
  {
   "cell_type": "code",
   "execution_count": 3,
   "metadata": {
    "collapsed": false
   },
   "outputs": [
    {
     "data": {
      "text/plain": [
       "<matplotlib.axes._subplots.AxesSubplot at 0x7ff974e9aef0>"
      ]
     },
     "execution_count": 3,
     "metadata": {},
     "output_type": "execute_result"
    },
    {
     "data": {
      "image/png": "[encoded data removed]",
      "text/plain": [
       "<matplotlib.figure.Figure at 0x7ff974e9a550>"
      ]
     },
     "metadata": {},
     "output_type": "display_data"
    }
   ],
   "source": [
    "# tell Jupyter to display graphs inline\n",
    "%matplotlib inline\n",
    "\n",
    "groupSize = range(0,91)\n",
    "probability = [0] * len(groupSize)\n",
    "\n",
    "for i in groupSize:\n",
    "    probability[i] = probBirthday(i)\n",
    "   \n",
    "probBdays = pd.DataFrame({'groupSize' : pd.Series(groupSize), 'probability' : pd.Series(probability)})\n",
    "\n",
    "# only keep group sizes greater than two\n",
    "probBdays = probBdays[probBdays.groupSize > 2]\n",
    "\n",
    "\n",
    "# plot the probabilities\n",
    "probBdays[['probability']].plot(grid=True, figsize=(10,5))"
   ]
  },
  {
   "cell_type": "code",
   "execution_count": 4,
   "metadata": {
    "collapsed": true
   },
   "outputs": [],
   "source": [
    "def myDouble(x):\n",
    "    return 2*x"
   ]
  },
  {
   "cell_type": "code",
   "execution_count": 5,
   "metadata": {
    "collapsed": false
   },
   "outputs": [
    {
     "data": {
      "text/html": [
       "<div>\n",
       "<table border=\"1\" class=\"dataframe\">\n",
       "  <thead>\n",
       "    <tr style=\"text-align: right;\">\n",
       "      <th></th>\n",
       "      <th>A</th>\n",
       "      <th>B</th>\n",
       "      <th>C</th>\n",
       "      <th>D</th>\n",
       "    </tr>\n",
       "  </thead>\n",
       "  <tbody>\n",
       "    <tr>\n",
       "      <th>0</th>\n",
       "      <td>1</td>\n",
       "      <td>0</td>\n",
       "      <td>1</td>\n",
       "      <td>2</td>\n",
       "    </tr>\n",
       "    <tr>\n",
       "      <th>1</th>\n",
       "      <td>2</td>\n",
       "      <td>0</td>\n",
       "      <td>1</td>\n",
       "      <td>4</td>\n",
       "    </tr>\n",
       "    <tr>\n",
       "      <th>2</th>\n",
       "      <td>3</td>\n",
       "      <td>0</td>\n",
       "      <td>1</td>\n",
       "      <td>6</td>\n",
       "    </tr>\n",
       "    <tr>\n",
       "      <th>3</th>\n",
       "      <td>4</td>\n",
       "      <td>0</td>\n",
       "      <td>1</td>\n",
       "      <td>8</td>\n",
       "    </tr>\n",
       "    <tr>\n",
       "      <th>4</th>\n",
       "      <td>5</td>\n",
       "      <td>0</td>\n",
       "      <td>1</td>\n",
       "      <td>10</td>\n",
       "    </tr>\n",
       "  </tbody>\n",
       "</table>\n",
       "</div>"
      ],
      "text/plain": [
       "   A  B  C   D\n",
       "0  1  0  1   2\n",
       "1  2  0  1   4\n",
       "2  3  0  1   6\n",
       "3  4  0  1   8\n",
       "4  5  0  1  10"
      ]
     },
     "execution_count": 5,
     "metadata": {},
     "output_type": "execute_result"
    }
   ],
   "source": [
    "# code for test apply method\n",
    "dfX = pd.DataFrame({'A' : pd.Series(range(1,6)),\n",
    "                    'B' : pd.Series([0] * 5)})\n",
    "dfX['C'] = pd.Series([1] * 5)\n",
    "dfX['D'] = dfX['A'].apply(myDouble)\n",
    "dfX"
   ]
  }
 ],
 "metadata": {
  "kernelspec": {
   "display_name": "Python 3",
   "language": "python",
   "name": "python3"
  },
  "language_info": {
   "codemirror_mode": {
    "name": "ipython",
    "version": 3
   },
   "file_extension": ".py",
   "mimetype": "text/x-python",
   "name": "python",
   "nbconvert_exporter": "python",
   "pygments_lexer": "ipython3",
   "version": "3.4.3"
  }
 },
 "nbformat": 4,
 "nbformat_minor": 0
}
