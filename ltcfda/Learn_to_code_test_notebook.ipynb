{
 "cells": [
  {
   "cell_type": "markdown",
   "metadata": {},
   "source": [
    "## Software installation test\n",
    "\n",
    "This Jupyter notebook is for The Open University's [_Learn to code for data analysis_](http://futurelearn.com/courses/learn-to-code) course.\n",
    "\n",
    "It aims to help you do a basic check whether your installation of pandas (the data analysis software we will be using) is working as expected.\n",
    "\n",
    "To do that, in the menu above this, click on 'Cell' and then on 'Run all'. This will execute the code below. (The code will be explained in the course.)\n",
    "\n",
    "After a little while you should see some text stating which version of pandas you have installed, and a graph with two dots plotted on it. \n",
    "\n",
    "If the version displayed is 0.16.2 and you don't get any error messages, then all's well and you can close this notebook (menu 'File', option 'Close and Halt') and then delete the notebook from your disk.\n",
    "\n",
    "If the version displayed is not 0.16.2, you may have installed an earlier or a more recent version of Anaconda than recommended. To see  which version of Anaconda and of the Jupyter (also known as IPython) notebooks you have installed, click on the 'Help' menu above, and then on the 'About' option. Make a note of which version of Anaconda (it should be 2.3.0) and of the IPython notebooks (it should be 3.2.0) you have. You can ask for help on the [installation instruction page](http://www.open.edu/openlearn/learn-to-code-installation)."
   ]
  },
  {
   "cell_type": "code",
   "execution_count": 1,
   "metadata": {
    "collapsed": false
   },
   "outputs": [
    {
     "name": "stdout",
     "output_type": "stream",
     "text": [
      "Your pandas version is 0.16.2\n"
     ]
    },
    {
     "data": {
      "image/png": "[encoded data removed]",
      "text/plain": [
       "<matplotlib.figure.Figure at 0x7f25420d0da0>"
      ]
     },
     "metadata": {},
     "output_type": "display_data"
    }
   ],
   "source": [
    "from pandas import *\n",
    "print('Your pandas version is', pandas.__version__)\n",
    "\n",
    "df = DataFrame(data=[[1,2], [2,1]], columns=['x','y'])\n",
    "\n",
    "%matplotlib inline\n",
    "df.plot('x', 'y', kind='scatter')\n",
    "\n",
    "from scipy.stats import spearmanr\n",
    "from pandas.io.wb import download"
   ]
  }
 ],
 "metadata": {
  "kernelspec": {
   "display_name": "Python 3",
   "language": "python",
   "name": "python3"
  },
  "language_info": {
   "codemirror_mode": {
    "name": "ipython",
    "version": 3
   },
   "file_extension": ".py",
   "mimetype": "text/x-python",
   "name": "python",
   "nbconvert_exporter": "python",
   "pygments_lexer": "ipython3",
   "version": "3.4.3"
  }
 },
 "nbformat": 4,
 "nbformat_minor": 0
}
