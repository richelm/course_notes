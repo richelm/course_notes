{
 "cells": [
  {
   "cell_type": "markdown",
   "metadata": {},
   "source": [
    "# Project Two\n",
    "\n",
    "by Shawn Rich, November 7, 2015\n",
    "\n",
    "This is the project notebook for Week 2 of The Open University's [Learn to code for Data Analysis](https://www.futurelearn.com/learn-to-code) course.\n",
    "\n",
    "My home is in Lansing, Michigan USA. In this project, I will explore data from 2014 for Lansing. Which two weeks last year were best? My preference are milder temperatures and low humidity.\n",
    "\n",
    "## Getting the Data\n",
    "\n",
    "First get the data from the Weather Underground website. Here are the steps I took:\n",
    "\n",
    "1. Goto [Weather Undergroup History and Data Archive](http://www.wunderground.com/history/)\n",
    "1. Enter *Lansing, Michigan* in the location search box and submit.\n",
    "1. Click on the Custom tab and enter date range from January 1, 2014 to December 31, 2014 and click Get History button\n",
    "1. Scroll to bottom of page and save the csv data to Lansing_2014.csv.\n",
    "\n",
    "Now we can read in the data into a data frame.\n"
   ]
  },
  {
   "cell_type": "code",
   "execution_count": 7,
   "metadata": {
    "collapsed": true
   },
   "outputs": [],
   "source": [
    "from pandas import *\n",
    "lansing = read_csv('Lansing_2014.csv', skipinitialspace=True)"
   ]
  },
  {
   "cell_type": "markdown",
   "metadata": {},
   "source": [
    "## Cleaning the Data\n",
    "\n",
    "Before we can start exploring the data to find warm non humid days, we will do a little cleanup of the data."
   ]
  },
  {
   "cell_type": "code",
   "execution_count": 8,
   "metadata": {
    "collapsed": false
   },
   "outputs": [
    {
     "data": {
      "text/html": [
       "<div>\n",
       "<table border=\"1\" class=\"dataframe\">\n",
       "  <thead>\n",
       "    <tr style=\"text-align: right;\">\n",
       "      <th></th>\n",
       "      <th>EST</th>\n",
       "      <th>Max TemperatureF</th>\n",
       "      <th>Mean TemperatureF</th>\n",
       "      <th>Min TemperatureF</th>\n",
       "      <th>Max Dew PointF</th>\n",
       "      <th>MeanDew PointF</th>\n",
       "      <th>Min DewpointF</th>\n",
       "      <th>Max Humidity</th>\n",
       "      <th>Mean Humidity</th>\n",
       "      <th>Min Humidity</th>\n",
       "      <th>...</th>\n",
       "      <th>Max VisibilityMiles</th>\n",
       "      <th>Mean VisibilityMiles</th>\n",
       "      <th>Min VisibilityMiles</th>\n",
       "      <th>Max Wind SpeedMPH</th>\n",
       "      <th>Mean Wind SpeedMPH</th>\n",
       "      <th>Max Gust SpeedMPH</th>\n",
       "      <th>PrecipitationIn</th>\n",
       "      <th>CloudCover</th>\n",
       "      <th>Events</th>\n",
       "      <th>WindDirDegrees&lt;br /&gt;</th>\n",
       "    </tr>\n",
       "  </thead>\n",
       "  <tbody>\n",
       "    <tr>\n",
       "      <th>0</th>\n",
       "      <td>2014-1-1</td>\n",
       "      <td>14</td>\n",
       "      <td>12</td>\n",
       "      <td>9</td>\n",
       "      <td>9</td>\n",
       "      <td>4</td>\n",
       "      <td>0</td>\n",
       "      <td>88</td>\n",
       "      <td>76</td>\n",
       "      <td>63</td>\n",
       "      <td>...</td>\n",
       "      <td>10</td>\n",
       "      <td>4</td>\n",
       "      <td>1</td>\n",
       "      <td>17</td>\n",
       "      <td>9</td>\n",
       "      <td>22</td>\n",
       "      <td>0.08</td>\n",
       "      <td>8</td>\n",
       "      <td>Snow</td>\n",
       "      <td>43&lt;br /&gt;</td>\n",
       "    </tr>\n",
       "    <tr>\n",
       "      <th>1</th>\n",
       "      <td>2014-1-2</td>\n",
       "      <td>13</td>\n",
       "      <td>5</td>\n",
       "      <td>-3</td>\n",
       "      <td>7</td>\n",
       "      <td>4</td>\n",
       "      <td>-8</td>\n",
       "      <td>76</td>\n",
       "      <td>70</td>\n",
       "      <td>63</td>\n",
       "      <td>...</td>\n",
       "      <td>9</td>\n",
       "      <td>4</td>\n",
       "      <td>0</td>\n",
       "      <td>22</td>\n",
       "      <td>13</td>\n",
       "      <td>30</td>\n",
       "      <td>0.01</td>\n",
       "      <td>7</td>\n",
       "      <td>Snow</td>\n",
       "      <td>24&lt;br /&gt;</td>\n",
       "    </tr>\n",
       "    <tr>\n",
       "      <th>2</th>\n",
       "      <td>2014-1-3</td>\n",
       "      <td>13</td>\n",
       "      <td>1</td>\n",
       "      <td>-11</td>\n",
       "      <td>2</td>\n",
       "      <td>-5</td>\n",
       "      <td>-14</td>\n",
       "      <td>83</td>\n",
       "      <td>68</td>\n",
       "      <td>53</td>\n",
       "      <td>...</td>\n",
       "      <td>10</td>\n",
       "      <td>10</td>\n",
       "      <td>5</td>\n",
       "      <td>23</td>\n",
       "      <td>10</td>\n",
       "      <td>32</td>\n",
       "      <td>0.00</td>\n",
       "      <td>1</td>\n",
       "      <td>Snow</td>\n",
       "      <td>205&lt;br /&gt;</td>\n",
       "    </tr>\n",
       "    <tr>\n",
       "      <th>3</th>\n",
       "      <td>2014-1-4</td>\n",
       "      <td>31</td>\n",
       "      <td>22</td>\n",
       "      <td>13</td>\n",
       "      <td>27</td>\n",
       "      <td>18</td>\n",
       "      <td>3</td>\n",
       "      <td>92</td>\n",
       "      <td>73</td>\n",
       "      <td>53</td>\n",
       "      <td>...</td>\n",
       "      <td>10</td>\n",
       "      <td>6</td>\n",
       "      <td>1</td>\n",
       "      <td>28</td>\n",
       "      <td>15</td>\n",
       "      <td>36</td>\n",
       "      <td>0.12</td>\n",
       "      <td>5</td>\n",
       "      <td>Snow</td>\n",
       "      <td>203&lt;br /&gt;</td>\n",
       "    </tr>\n",
       "    <tr>\n",
       "      <th>4</th>\n",
       "      <td>2014-1-5</td>\n",
       "      <td>29</td>\n",
       "      <td>23</td>\n",
       "      <td>16</td>\n",
       "      <td>27</td>\n",
       "      <td>21</td>\n",
       "      <td>11</td>\n",
       "      <td>92</td>\n",
       "      <td>86</td>\n",
       "      <td>80</td>\n",
       "      <td>...</td>\n",
       "      <td>4</td>\n",
       "      <td>1</td>\n",
       "      <td>0</td>\n",
       "      <td>22</td>\n",
       "      <td>11</td>\n",
       "      <td>30</td>\n",
       "      <td>0.78</td>\n",
       "      <td>8</td>\n",
       "      <td>Fog-Snow</td>\n",
       "      <td>9&lt;br /&gt;</td>\n",
       "    </tr>\n",
       "  </tbody>\n",
       "</table>\n",
       "<p>5 rows × 23 columns</p>\n",
       "</div>"
      ],
      "text/plain": [
       "        EST  Max TemperatureF  Mean TemperatureF  Min TemperatureF  \\\n",
       "0  2014-1-1                14                 12                 9   \n",
       "1  2014-1-2                13                  5                -3   \n",
       "2  2014-1-3                13                  1               -11   \n",
       "3  2014-1-4                31                 22                13   \n",
       "4  2014-1-5                29                 23                16   \n",
       "\n",
       "   Max Dew PointF  MeanDew PointF  Min DewpointF  Max Humidity  Mean Humidity  \\\n",
       "0               9               4              0            88             76   \n",
       "1               7               4             -8            76             70   \n",
       "2               2              -5            -14            83             68   \n",
       "3              27              18              3            92             73   \n",
       "4              27              21             11            92             86   \n",
       "\n",
       "   Min Humidity         ...           Max VisibilityMiles  \\\n",
       "0            63         ...                            10   \n",
       "1            63         ...                             9   \n",
       "2            53         ...                            10   \n",
       "3            53         ...                            10   \n",
       "4            80         ...                             4   \n",
       "\n",
       "   Mean VisibilityMiles  Min VisibilityMiles  Max Wind SpeedMPH  \\\n",
       "0                     4                    1                 17   \n",
       "1                     4                    0                 22   \n",
       "2                    10                    5                 23   \n",
       "3                     6                    1                 28   \n",
       "4                     1                    0                 22   \n",
       "\n",
       "   Mean Wind SpeedMPH  Max Gust SpeedMPH  PrecipitationIn  CloudCover  \\\n",
       "0                   9                 22             0.08           8   \n",
       "1                  13                 30             0.01           7   \n",
       "2                  10                 32             0.00           1   \n",
       "3                  15                 36             0.12           5   \n",
       "4                  11                 30             0.78           8   \n",
       "\n",
       "     Events WindDirDegrees<br />  \n",
       "0      Snow             43<br />  \n",
       "1      Snow             24<br />  \n",
       "2      Snow            205<br />  \n",
       "3      Snow            203<br />  \n",
       "4  Fog-Snow              9<br />  \n",
       "\n",
       "[5 rows x 23 columns]"
      ]
     },
     "execution_count": 8,
     "metadata": {},
     "output_type": "execute_result"
    }
   ],
   "source": [
    "lansing.head()"
   ]
  },
  {
   "cell_type": "markdown",
   "metadata": {},
   "source": [
    "By scrolling the above table to the right, we see that each row ends with &lt;br /&gt; tag. This happened when we download the data from the WU web site. Let's get ride of all of those."
   ]
  },
  {
   "cell_type": "code",
   "execution_count": 9,
   "metadata": {
    "collapsed": false
   },
   "outputs": [],
   "source": [
    "lansing = lansing.rename(columns={'WindDirDegrees<br />' : 'WindDirDegrees'})\n",
    "lansing['WindDirDegrees'] = lansing['WindDirDegrees'].str.rstrip('<br />')"
   ]
  },
  {
   "cell_type": "markdown",
   "metadata": {},
   "source": [
    "Now lets change some of the column datatypes.\n",
    "1. Change 'WindDirDegrees' to float64\n",
    "1. Change 'GMT' column into values of the datetime64 date type.\n",
    "1. Change the index from the default to the datetime64 values in the 'GMT'. This is done so that it is easier to pull out rows between particular dates and display more meaningful graphs."
   ]
  },
  {
   "cell_type": "code",
   "execution_count": 10,
   "metadata": {
    "collapsed": false
   },
   "outputs": [],
   "source": [
    "lansing['WindDirDegrees'] = lansing['WindDirDegrees'].astype('float64')\n",
    "lansing['EST'] = to_datetime(lansing['EST'])\n",
    "lansing.index = lansing['EST']"
   ]
  },
  {
   "cell_type": "markdown",
   "metadata": {},
   "source": [
    "## Finding a Break\n",
    "\n",
    "Autumn in Michigan is beatiful and can have temperatures and humidity that I like. So, we limit our search to September through November."
   ]
  },
  {
   "cell_type": "code",
   "execution_count": 11,
   "metadata": {
    "collapsed": false
   },
   "outputs": [],
   "source": [
    "autumn = lansing.ix[datetime(2014,9,1) : datetime(2014,11,30)]"
   ]
  },
  {
   "cell_type": "markdown",
   "metadata": {},
   "source": [
    "Let's look at temperatures and humidity."
   ]
  },
  {
   "cell_type": "code",
   "execution_count": 12,
   "metadata": {
    "collapsed": false
   },
   "outputs": [
    {
     "data": {
      "text/plain": [
       "<matplotlib.axes._subplots.AxesSubplot at 0x7f13b8c54828>"
      ]
     },
     "execution_count": 12,
     "metadata": {},
     "output_type": "execute_result"
    },
    {
     "data": {
      "image/png": "[encoded data removed]",
      "text/plain": [
       "<matplotlib.figure.Figure at 0x7f13b8b137b8>"
      ]
     },
     "metadata": {},
     "output_type": "display_data"
    }
   ],
   "source": [
    "# tell Jupyter to display graphs inline\n",
    "%matplotlib inline\n",
    "\n",
    "# plot mean temperature and humidity\n",
    "autumn[['Mean TemperatureF','Mean Humidity']].plot(grid=True, figsize=(10,5))\n"
   ]
  },
  {
   "cell_type": "markdown",
   "metadata": {},
   "source": [
    "## Conculsion\n",
    "\n",
    "The last two weeks in September and the first week of October look really nice. I also like the falls colors of the leaves turning. That generally does not happen until mid October. I think I will risk temperatures in the 50s and plan my vacation for second two weeks in October."
   ]
  }
 ],
 "metadata": {
  "kernelspec": {
   "display_name": "Python 3",
   "language": "python",
   "name": "python3"
  },
  "language_info": {
   "codemirror_mode": {
    "name": "ipython",
    "version": 3
   },
   "file_extension": ".py",
   "mimetype": "text/x-python",
   "name": "python",
   "nbconvert_exporter": "python",
   "pygments_lexer": "ipython3",
   "version": "3.4.3"
  }
 },
 "nbformat": 4,
 "nbformat_minor": 0
}
